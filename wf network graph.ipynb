{
 "cells": [
  {
   "cell_type": "code",
   "execution_count": 20,
   "metadata": {},
   "outputs": [],
   "source": [
    "import pandas as pd\n",
    "import numpy as np\n",
    "from pyvis import network as net\n",
    "import networkx as nx\n",
    "import matplotlib.pyplot as plt\n",
    "import ipympl\n",
    "from IPython.display import IFrame\n",
    "from IPython.display import HTML\n",
    "from networkx import DiGraph as di\n",
    "%matplotlib inline \n"
   ]
  },
  {
   "cell_type": "code",
   "execution_count": 2,
   "metadata": {},
   "outputs": [],
   "source": [
    "data = pd.read_csv(\"/Users/averyrobinson/WellsFargo/data/network_data.csv\")"
   ]
  },
  {
   "cell_type": "code",
   "execution_count": 3,
   "metadata": {},
   "outputs": [],
   "source": [
    "data = data.iloc[:,:5]"
   ]
  },
  {
   "cell_type": "code",
   "execution_count": 4,
   "metadata": {},
   "outputs": [
    {
     "data": {
      "text/html": [
       "<div>\n",
       "<style scoped>\n",
       "    .dataframe tbody tr th:only-of-type {\n",
       "        vertical-align: middle;\n",
       "    }\n",
       "\n",
       "    .dataframe tbody tr th {\n",
       "        vertical-align: top;\n",
       "    }\n",
       "\n",
       "    .dataframe thead th {\n",
       "        text-align: right;\n",
       "    }\n",
       "</style>\n",
       "<table border=\"1\" class=\"dataframe\">\n",
       "  <thead>\n",
       "    <tr style=\"text-align: right;\">\n",
       "      <th></th>\n",
       "      <th>Source</th>\n",
       "      <th>Leader</th>\n",
       "      <th>Target</th>\n",
       "      <th>Weight</th>\n",
       "      <th>Level</th>\n",
       "    </tr>\n",
       "  </thead>\n",
       "  <tbody>\n",
       "    <tr>\n",
       "      <th>0</th>\n",
       "      <td>ECMO Leader</td>\n",
       "      <td>Tommy Jacobs</td>\n",
       "      <td>EO: Michelle Adams</td>\n",
       "      <td>1</td>\n",
       "      <td>3</td>\n",
       "    </tr>\n",
       "    <tr>\n",
       "      <th>1</th>\n",
       "      <td>EO: Michelle Adams</td>\n",
       "      <td>NaN</td>\n",
       "      <td>Quality and Risk</td>\n",
       "      <td>1</td>\n",
       "      <td>4</td>\n",
       "    </tr>\n",
       "    <tr>\n",
       "      <th>2</th>\n",
       "      <td>EO: Michelle Adams</td>\n",
       "      <td>NaN</td>\n",
       "      <td>Consumer Lending and Complaints</td>\n",
       "      <td>1</td>\n",
       "      <td>4</td>\n",
       "    </tr>\n",
       "    <tr>\n",
       "      <th>3</th>\n",
       "      <td>EO: Michelle Adams</td>\n",
       "      <td>NaN</td>\n",
       "      <td>CLEO Support</td>\n",
       "      <td>1</td>\n",
       "      <td>4</td>\n",
       "    </tr>\n",
       "    <tr>\n",
       "      <th>4</th>\n",
       "      <td>Quality and Risk</td>\n",
       "      <td>Kristi Hansher</td>\n",
       "      <td>Risk and Third Party Governance</td>\n",
       "      <td>1</td>\n",
       "      <td>5</td>\n",
       "    </tr>\n",
       "  </tbody>\n",
       "</table>\n",
       "</div>"
      ],
      "text/plain": [
       "               Source          Leader                           Target  \\\n",
       "0         ECMO Leader    Tommy Jacobs               EO: Michelle Adams   \n",
       "1  EO: Michelle Adams             NaN                 Quality and Risk   \n",
       "2  EO: Michelle Adams             NaN  Consumer Lending and Complaints   \n",
       "3  EO: Michelle Adams             NaN                     CLEO Support   \n",
       "4    Quality and Risk  Kristi Hansher  Risk and Third Party Governance   \n",
       "\n",
       "   Weight  Level  \n",
       "0       1      3  \n",
       "1       1      4  \n",
       "2       1      4  \n",
       "3       1      4  \n",
       "4       1      5  "
      ]
     },
     "execution_count": 4,
     "metadata": {},
     "output_type": "execute_result"
    }
   ],
   "source": [
    "data.head()"
   ]
  },
  {
   "cell_type": "code",
   "execution_count": 8,
   "metadata": {},
   "outputs": [
    {
     "data": {
      "text/html": [
       "\n",
       "        <iframe\n",
       "            width=\"900\"\n",
       "            height=\"600\"\n",
       "            src=\"wf.html\"\n",
       "            frameborder=\"0\"\n",
       "            allowfullscreen\n",
       "        ></iframe>\n",
       "        "
      ],
      "text/plain": [
       "<IPython.lib.display.IFrame at 0x122b53400>"
      ]
     },
     "execution_count": 8,
     "metadata": {},
     "output_type": "execute_result"
    }
   ],
   "source": [
    "got_net = net.Network(height='750px', width='100%',font_color='black')\n",
    "\n",
    "sources = data['Source']\n",
    "targets = data['Target']\n",
    "weights = data['Weight']\n",
    "levels = data['Level']\n",
    "leaders = data['Leader']\n",
    "colors = ['red','green','yellow','blue']\n",
    "edge_data = zip(sources, targets, weights,levels,leaders)\n",
    "for e in edge_data:\n",
    "    src = e[0]\n",
    "    dst = e[1]\n",
    "    w = e[2]\n",
    "    l = e[3]\n",
    "\n",
    "    got_net.add_node(src, src,group=l, title=src,physics=False, color = colors[l-3], weight=1)\n",
    "    got_net.add_node(dst, dst, title=dst, color= 'pink',size=10,length=40,physics=False,weight=3)\n",
    "    got_net.add_edge(src, dst, value=w)\n",
    "\n",
    "    \n",
    "\n",
    "got_net.show('wf.html')\n",
    "IFrame(src='wf.html', width = 900, height = 600)"
   ]
  },
  {
   "cell_type": "code",
   "execution_count": 9,
   "metadata": {},
   "outputs": [],
   "source": [
    "data2 = data.head()"
   ]
  },
  {
   "cell_type": "code",
   "execution_count": 54,
   "metadata": {},
   "outputs": [
    {
     "data": {
      "text/html": [
       "<div>\n",
       "<style scoped>\n",
       "    .dataframe tbody tr th:only-of-type {\n",
       "        vertical-align: middle;\n",
       "    }\n",
       "\n",
       "    .dataframe tbody tr th {\n",
       "        vertical-align: top;\n",
       "    }\n",
       "\n",
       "    .dataframe thead th {\n",
       "        text-align: right;\n",
       "    }\n",
       "</style>\n",
       "<table border=\"1\" class=\"dataframe\">\n",
       "  <thead>\n",
       "    <tr style=\"text-align: right;\">\n",
       "      <th></th>\n",
       "      <th>Source</th>\n",
       "      <th>Leader</th>\n",
       "      <th>Target</th>\n",
       "      <th>Weight</th>\n",
       "      <th>Level</th>\n",
       "      <th>color</th>\n",
       "    </tr>\n",
       "  </thead>\n",
       "  <tbody>\n",
       "    <tr>\n",
       "      <th>0</th>\n",
       "      <td>ECMO Leader</td>\n",
       "      <td>Tommy Jacobs</td>\n",
       "      <td>EO: Michelle Adams</td>\n",
       "      <td>8</td>\n",
       "      <td>5</td>\n",
       "      <td>black</td>\n",
       "    </tr>\n",
       "    <tr>\n",
       "      <th>1</th>\n",
       "      <td>EO: Michelle Adams</td>\n",
       "      <td>NaN</td>\n",
       "      <td>Quality and Risk</td>\n",
       "      <td>1</td>\n",
       "      <td>4</td>\n",
       "      <td>blue</td>\n",
       "    </tr>\n",
       "    <tr>\n",
       "      <th>2</th>\n",
       "      <td>EO: Michelle Adams</td>\n",
       "      <td>NaN</td>\n",
       "      <td>Consumer Lending and Complaints</td>\n",
       "      <td>1</td>\n",
       "      <td>4</td>\n",
       "      <td>blue</td>\n",
       "    </tr>\n",
       "    <tr>\n",
       "      <th>3</th>\n",
       "      <td>EO: Michelle Adams</td>\n",
       "      <td>NaN</td>\n",
       "      <td>CLEO Support</td>\n",
       "      <td>1</td>\n",
       "      <td>4</td>\n",
       "      <td>blue</td>\n",
       "    </tr>\n",
       "    <tr>\n",
       "      <th>4</th>\n",
       "      <td>Quality and Risk</td>\n",
       "      <td>Kristi Hansher</td>\n",
       "      <td>Risk and Third Party Governance</td>\n",
       "      <td>1</td>\n",
       "      <td>3</td>\n",
       "      <td>green</td>\n",
       "    </tr>\n",
       "  </tbody>\n",
       "</table>\n",
       "</div>"
      ],
      "text/plain": [
       "               Source          Leader                           Target  \\\n",
       "0         ECMO Leader    Tommy Jacobs               EO: Michelle Adams   \n",
       "1  EO: Michelle Adams             NaN                 Quality and Risk   \n",
       "2  EO: Michelle Adams             NaN  Consumer Lending and Complaints   \n",
       "3  EO: Michelle Adams             NaN                     CLEO Support   \n",
       "4    Quality and Risk  Kristi Hansher  Risk and Third Party Governance   \n",
       "\n",
       "   Weight  Level  color  \n",
       "0       8      5  black  \n",
       "1       1      4   blue  \n",
       "2       1      4   blue  \n",
       "3       1      4   blue  \n",
       "4       1      3  green  "
      ]
     },
     "execution_count": 54,
     "metadata": {},
     "output_type": "execute_result"
    }
   ],
   "source": [
    "data2"
   ]
  },
  {
   "cell_type": "code",
   "execution_count": 65,
   "metadata": {},
   "outputs": [
    {
     "name": "stdout",
     "output_type": "stream",
     "text": [
      "['ECMO Leader', 'EO: Michelle Adams', 8, 5, 'Tommy Jacobs', 'black']\n",
      "['EO: Michelle Adams', 'Quality and Risk', 1, 4, nan, 'blue']\n",
      "['EO: Michelle Adams', 'Consumer Lending and Complaints', 1, 4, nan, 'blue']\n",
      "['EO: Michelle Adams', 'CLEO Support', 1, 4, nan, 'blue']\n",
      "['Quality and Risk', 'Risk and Third Party Governance', 1, 3, 'Kristi Hansher', 'green']\n"
     ]
    },
    {
     "data": {
      "text/html": [
       "\n",
       "        <iframe\n",
       "            width=\"900\"\n",
       "            height=\"600\"\n",
       "            src=\"wf.html\"\n",
       "            frameborder=\"0\"\n",
       "            allowfullscreen\n",
       "        ></iframe>\n",
       "        "
      ],
      "text/plain": [
       "<IPython.lib.display.IFrame at 0x122aad790>"
      ]
     },
     "execution_count": 65,
     "metadata": {},
     "output_type": "execute_result"
    }
   ],
   "source": [
    "got_net = net.Network(height='750px', width='100%',font_color='black')\n",
    "\n",
    "sources = data2['Source']\n",
    "targets = data2['Target']\n",
    "weights = data2['Weight']\n",
    "levels = data2['Level']\n",
    "leaders = data2['Leader']\n",
    "colors = data2['color']\n",
    "edge_data = zip(sources, targets, weights,levels,leaders,colors)\n",
    "for e in edge_data:\n",
    "    src = e[0]\n",
    "    dst = e[1]\n",
    "    w = e[2]\n",
    "    l = e[3]\n",
    "    leads = e[4]\n",
    "    c = e[5]\n",
    "    print([src,dst,w,l,leads,c])\n",
    "\n",
    "    got_net.add_node(src, src,group=l, title=src,physics=False, color = c,size=l*3)\n",
    "    got_net.add_node(dst, dst, title=dst, color= c,size=l*3,length=40,physics=False)\n",
    "    got_net.add_edge(src, dst, color = 'black', weight=6)\n",
    "\n",
    "    \n",
    "\n",
    "got_net.show('wf.html')\n",
    "IFrame(src='wf.html', width = 900, height = 600)"
   ]
  },
  {
   "cell_type": "code",
   "execution_count": 253,
   "metadata": {},
   "outputs": [],
   "source": [
    "def get_desc(description):\n",
    "    n  = 75\n",
    "    split_strings = []\n",
    "    for index in range(0, len(str(description)), n):\n",
    "        split_strings.append(str(description)[index : index + n])\n",
    "\n",
    "    if((str(description)) != 'nan'):\n",
    "        description= '<br>'+ 'High Level Description of Team:' \n",
    "        for i in range(len(split_strings)):\n",
    "            description =  description + '<br>' + str(split_strings[i])\n",
    "    else:\n",
    "        description = ''\n",
    "        \n",
    "    return(description)"
   ]
  },
  {
   "cell_type": "code",
   "execution_count": 276,
   "metadata": {},
   "outputs": [],
   "source": [
    "def add_coT(coT,names, names_dst):\n",
    "        names = ', '.join(names)\n",
    "        names = '<br>' + \"Co-Team(s): \" + names\n",
    "        \n",
    "        names_dst = ', '.join(names_dst)\n",
    "        names_dst = '<br>' + \"Co-Team(s): \" + names_dst\n",
    "        c_coT = data[data['Source'] == coT]['Color'].values[0]\n",
    "        l_coT = data[data['Source'] == coT]['Level'].values[0]\n",
    "        desc_coT = data[data['Source'] == coT]['HL_description'].values[0]\n",
    "        desc_coT = get_desc(desc_coT)\n",
    "        got_net.add_node(src,src,group=l, title=\"Team: \" + src + leads+ lev + names + str(desc), level = l, physics=True, color = c,size=5+int(6-l)**2)\n",
    "        got_net.add_node(coT,coT, title=\"Team: \" + str(coT) +  leads_dst +lev_dst + names_dst+str(desc_coT),physics=True ,level = int(l_coT), color = c_coT,size=5+int(6-l_dst)**2)\n",
    "        got_net.add_edge(src, coT,color='cyan',label = 'co-team')\n",
    "    "
   ]
  },
  {
   "cell_type": "code",
   "execution_count": 272,
   "metadata": {},
   "outputs": [],
   "source": [
    "data = pd.read_csv(\"/Users/averyrobinson/Stagecoach-Connections/data/IP_data.csv\")"
   ]
  },
  {
   "cell_type": "code",
   "execution_count": 277,
   "metadata": {
    "scrolled": false
   },
   "outputs": [
    {
     "data": {
      "text/html": [
       "\n",
       "        <iframe\n",
       "            width=\"900\"\n",
       "            height=\"600\"\n",
       "            src=\"IP.html\"\n",
       "            frameborder=\"0\"\n",
       "            allowfullscreen\n",
       "        ></iframe>\n",
       "        "
      ],
      "text/plain": [
       "<IPython.lib.display.IFrame at 0x11e6a8400>"
      ]
     },
     "execution_count": 277,
     "metadata": {},
     "output_type": "execute_result"
    }
   ],
   "source": [
    "got_net = net.Network(height='750px', width='100%',font_color='navy')#,layout='hierarchical')\n",
    "\n",
    "sources = data['Source']\n",
    "targets = data['Direct_Report']\n",
    "levels = data['Level']\n",
    "leaders = data['Leader']\n",
    "colors = data['Color']\n",
    "desc = data['HL_description']\n",
    "coteam1 = data['coteam1']\n",
    "coteam2 = data['coteam2']\n",
    "coteam3 = data['coteam3']\n",
    "\n",
    "\n",
    "\n",
    "#team_type = data['Team type']\n",
    "edge_data = zip(sources, targets,levels,leaders,colors, desc,coteam1,coteam2, coteam3)\n",
    "\n",
    "for e in edge_data:\n",
    "    src = e[0]\n",
    "    dst = e[1]\n",
    "    l = e[2]\n",
    "    leads = e[3]\n",
    "    c = e[4]\n",
    "    desc = e[5]\n",
    "    coT,coT2,coT3= e[6], e[7],e[8]\n",
    "    \n",
    "    \n",
    "    c_dst = data[data['Source'] == dst]['Color'].values[0]\n",
    "    l_dst = data[data['Source'] == dst]['Level'].values[0]\n",
    "    desc_dst = data[data['Source'] == dst]['HL_description'].values[0]\n",
    "    leads_dst = data[data['Source'] == dst]['Leader'].values[0]\n",
    "    \n",
    "    \n",
    "\n",
    "    \n",
    "    conames = [coT,coT2,coT3]\n",
    "    conames = [x for x in conames if str(x) != 'nan']\n",
    "    \n",
    "    coT_desc,coT_desc2,coT_desc3 = data[data['Source'] == dst]['coteam1'].values[0], data[data['Source'] == dst]['coteam2'].values[0],data[data['Source'] == dst]['coteam3'].values[0]\n",
    "    conames_dst = [coT_desc,coT_desc2,coT_desc3]\n",
    "    conames_dst = [x for x in conames_dst if str(x) != 'nan']\n",
    "    \n",
    "    desc = get_desc(desc)\n",
    "    desc_dst = get_desc(desc_dst)\n",
    "    lev = '<br>'+'Level: '+str(l)\n",
    "    lev_dst= '<br>'+'Level: '+str(l_dst)\n",
    "    \n",
    "    leads = '<br>' + \"Leader: \" + leads\n",
    "    leads_dst = '<br>' + \"Leader: \" + leads_dst\n",
    "    \n",
    "    coteam_names = []\n",
    "    if(str(coT) != 'nan'):\n",
    "        add_coT(str(coT),conames,conames_dst)\n",
    "        \n",
    "    if(str(coT2) != 'nan'):\n",
    "        add_coT(str(coT2),conames,conames_dst)\n",
    "        \n",
    "    if(str(coT3) != 'nan'):\n",
    "        add_coT(str(coT3),conames,conames_dst)\n",
    "        \n",
    "\n",
    "\n",
    "    got_net.add_node(src,src,group=l, title=\"Team: \" + src + leads +lev +str(desc),\n",
    "                     level = l, physics=True, color = c,size=5+int(6-l)**2,\n",
    "                     borderWidthSelected=20,labelHighlightBold=True )\n",
    "    got_net.add_node(dst,dst, title=\"Team: \" + str(dst)+ leads_dst + lev_dst + str(desc_dst),\n",
    "                     physics=True ,level = int(l_dst), color = c_dst,size=5+int(6-l_dst)**2,\n",
    "                     borderWidthSelected=20, labelHighlightBold = True)\n",
    "    got_net.add_edge(src, dst,color='black')\n",
    "    \n",
    "    \n",
    "\n",
    "        \n",
    "        \n",
    "got_net.set_edge_smooth('dynamic') \n",
    "got_net.show('IP.html')\n",
    "IFrame(src='IP.html', width = 900, height = 600)"
   ]
  },
  {
   "cell_type": "code",
   "execution_count": 180,
   "metadata": {},
   "outputs": [],
   "source": [
    "temp = data[data['coteam1'].notna()]"
   ]
  },
  {
   "cell_type": "code",
   "execution_count": 210,
   "metadata": {
    "scrolled": true
   },
   "outputs": [
    {
     "data": {
      "text/plain": [
       "2"
      ]
     },
     "execution_count": 210,
     "metadata": {},
     "output_type": "execute_result"
    }
   ],
   "source": [
    "coteam_names=['Trading', 'Trading']\n",
    "len(coteam_names)"
   ]
  },
  {
   "cell_type": "code",
   "execution_count": 215,
   "metadata": {},
   "outputs": [
    {
     "data": {
      "text/plain": [
       "'Trading, Trading'"
      ]
     },
     "execution_count": 215,
     "metadata": {},
     "output_type": "execute_result"
    }
   ],
   "source": []
  },
  {
   "cell_type": "code",
   "execution_count": null,
   "metadata": {},
   "outputs": [],
   "source": []
  }
 ],
 "metadata": {
  "kernelspec": {
   "display_name": "Python 3",
   "language": "python",
   "name": "python3"
  },
  "language_info": {
   "codemirror_mode": {
    "name": "ipython",
    "version": 3
   },
   "file_extension": ".py",
   "mimetype": "text/x-python",
   "name": "python",
   "nbconvert_exporter": "python",
   "pygments_lexer": "ipython3",
   "version": "3.8.3"
  }
 },
 "nbformat": 4,
 "nbformat_minor": 4
}
